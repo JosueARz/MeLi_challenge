{
 "cells": [
  {
   "cell_type": "code",
   "execution_count": 3,
   "id": "2a80ff54",
   "metadata": {},
   "outputs": [
    {
     "name": "stdout",
     "output_type": "stream",
     "text": [
      "e:\\Users\\1093821\\Documents\\Desarrollos\\paso_python\\mercadolibre-data-scientist-challenge\n"
     ]
    }
   ],
   "source": [
    "%cd ../"
   ]
  },
  {
   "cell_type": "code",
   "execution_count": 4,
   "id": "96431452",
   "metadata": {},
   "outputs": [],
   "source": [
    "import pandas as pd\n",
    "from pathlib import Path\n",
    "from ml_models.model import ModelPredictor\n"
   ]
  },
  {
   "cell_type": "code",
   "execution_count": null,
   "id": "6e96b13f",
   "metadata": {},
   "outputs": [],
   "source": [
    "# 1) Cargar modelo entrenado\n",
    "pipe = ModelPredictor.load_model(Path(\"models/best_pipeline.pkl\"))\n"
   ]
  },
  {
   "cell_type": "code",
   "execution_count": null,
   "id": "512ca755",
   "metadata": {},
   "outputs": [
    {
     "name": "stderr",
     "output_type": "stream",
     "text": [
      "<>:2: SyntaxWarning: invalid escape sequence '\\p'\n",
      "<>:2: SyntaxWarning: invalid escape sequence '\\p'\n",
      "e:\\Users\\1093821\\AppData\\Local\\Temp\\2\\ipykernel_230040\\2137595238.py:2: SyntaxWarning: invalid escape sequence '\\p'\n",
      "  df_new = pd.read_csv(\"data\\processed\\items_with_features.csv\")\n",
      "e:\\Users\\1093821\\AppData\\Local\\Temp\\2\\ipykernel_230040\\2137595238.py:2: DtypeWarning: Columns (10,17,18) have mixed types. Specify dtype option on import or set low_memory=False.\n",
      "  df_new = pd.read_csv(\"data\\processed\\items_with_features.csv\")\n"
     ]
    }
   ],
   "source": [
    "# 2) Leer nuevos ítems\n",
    "df_new = pd.read_csv(\"data\\processed\\items_with_features.csv\")\n",
    "\n",
    "df_new = df_new[[\n",
    "    \"base_price\",\n",
    "    \"price\",\n",
    "    \"is_new\",\n",
    "    \"initial_quantity\",\n",
    "    \"is_scarce_stock\",\n",
    "    \"stock_ratio\",\n",
    "    \"price_per_unit\",\t\t\t\t\n",
    "]].head(10)"
   ]
  },
  {
   "cell_type": "code",
   "execution_count": 12,
   "id": "a1aa007e",
   "metadata": {},
   "outputs": [],
   "source": [
    "# 3) Obtener probabilidades y etiquetas\n",
    "proba = pipe.predict_proba(df_new[[\n",
    "    \"base_price\",\"price\",\"is_new\",\"initial_quantity\",\"price_per_unit\"\n",
    "]])[:, 1]\n",
    "\n",
    "threshold = 0.62          # umbral óptimo hallado en entrenamiento\n",
    "pred = (proba >= threshold).astype(int)"
   ]
  },
  {
   "cell_type": "code",
   "execution_count": 13,
   "id": "e7241e0b",
   "metadata": {},
   "outputs": [
    {
     "name": "stdout",
     "output_type": "stream",
     "text": [
      "Probabilidades: [0.21771854 0.80429722 0.70190921 0.1024832  0.50374198]\n",
      "Predicciones  : [0 1 1 0 0]\n"
     ]
    }
   ],
   "source": [
    "print(\"Probabilidades:\", proba[:5])\n",
    "print(\"Predicciones  :\", pred[:5])\n"
   ]
  }
 ],
 "metadata": {
  "kernelspec": {
   "display_name": "venv",
   "language": "python",
   "name": "python3"
  },
  "language_info": {
   "codemirror_mode": {
    "name": "ipython",
    "version": 3
   },
   "file_extension": ".py",
   "mimetype": "text/x-python",
   "name": "python",
   "nbconvert_exporter": "python",
   "pygments_lexer": "ipython3",
   "version": "3.12.10"
  }
 },
 "nbformat": 4,
 "nbformat_minor": 5
}
